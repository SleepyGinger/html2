{
 "metadata": {
  "name": ""
 },
 "nbformat": 3,
 "nbformat_minor": 0,
 "worksheets": [
  {
   "cells": [
    {
     "cell_type": "code",
     "collapsed": false,
     "input": [
      "import html2text\n",
      "import urllib2\n",
      "\n",
      "def download_webpage(url):\n",
      "    '''Downloads a webpage and returns the text.'''\n",
      "    page = urllib2.urlopen(url)\n",
      "    return page.read()\n",
      " \n",
      "user_url = 'http://www.google.com'\n",
      "downloaded = download_webpage(user_url)\n",
      "\n",
      "print html2text.html2text(downloaded)"
     ],
     "language": "python",
     "metadata": {},
     "outputs": [
      {
       "output_type": "stream",
       "stream": "stdout",
       "text": [
        "**Search** [Images](http://www.google.com/imghp?hl=en&tab=wi) [Maps](http://maps.google.com/maps?hl=en&tab=wl) [Play](https://play.google.com/?hl=en&tab=w8) [YouTube](http://www.youtube.com/?tab=w1) [News](http://news.google.com/nwshp?hl=en&tab=wn) [Gmail](https://mail.google.com/mail/?tab=wm) [Drive](https://drive.google.com/?tab=wo) _[More_ \u00bb](http://www.google.com/intl/en/options/)\n",
        "\n",
        "[Web History](http://www.google.com/history/optout?hl=en) |\n",
        "[Settings](/preferences?hl=en) | [Sign in](https://accounts.google.com/Service\n",
        "Login?hl=en&continue=http://www.google.com/)\n",
        "\n",
        "  \n",
        "\n",
        "![Google](/images/srpr/logo9w.png)  \n",
        "  \n",
        "\n",
        "\n",
        "\n",
        "  \n",
        "\n",
        "[Advanced search](/advanced_search?hl=en&authuser=0)[Language\n",
        "tools](/language_tools?hl=en&authuser=0)\n",
        "\n",
        "  \n",
        "\n",
        "[Advertising Programs](/intl/en/ads/)[Business Solutions](/services/)[+Google]\n",
        "(https://plus.google.com/116899029375914044550)[About\n",
        "Google](/intl/en/about.html)\n",
        "\n",
        "(C) 2013 - [Privacy & Terms](/intl/en/policies/)\n",
        "\n",
        "\n"
       ]
      }
     ],
     "prompt_number": 23
    },
    {
     "cell_type": "code",
     "collapsed": false,
     "input": [
      "ls"
     ],
     "language": "python",
     "metadata": {},
     "outputs": [
      {
       "output_type": "stream",
       "stream": "stdout",
       "text": [
        "\u001b[34mApplications\u001b[m\u001b[m/          \u001b[34mLibrary\u001b[m\u001b[m/               htmlmaker.ipynb\r\n",
        "BootCamp.ipynb         \u001b[34mMovies\u001b[m\u001b[m/                many.txt\r\n",
        "CountingApp.ipynb      \u001b[34mMusic\u001b[m\u001b[m/                 output.dat\r\n",
        "\u001b[34mDesktop\u001b[m\u001b[m/               \u001b[34mPictures\u001b[m\u001b[m/              \u001b[34mtest\u001b[m\u001b[m/\r\n",
        "\u001b[34mDocuments\u001b[m\u001b[m/             \u001b[34mPublic\u001b[m\u001b[m/                \u001b[34mtestfolder\u001b[m\u001b[m/\r\n",
        "\u001b[34mDownloads\u001b[m\u001b[m/             Readability.ipynb\r\n",
        "Kaggle_Name_Age.ipynb  html2text.ipynb\r\n"
       ]
      }
     ],
     "prompt_number": 24
    },
    {
     "cell_type": "code",
     "collapsed": false,
     "input": [],
     "language": "python",
     "metadata": {},
     "outputs": []
    }
   ],
   "metadata": {}
  }
 ]
}